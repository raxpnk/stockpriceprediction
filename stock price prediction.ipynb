{
 "cells": [
  {
   "cell_type": "markdown",
   "metadata": {},
   "source": [
    "# Predicting Stock Prices with Linear Regression"
   ]
  },
  {
   "cell_type": "markdown",
   "metadata": {},
   "source": [
    "To answer the question if we can accurately predict stock prices over time, I'm going to use Stock Price history data from the Quadl API and apply a regression analysis method."
   ]
  },
  {
   "cell_type": "markdown",
   "metadata": {},
   "source": [
    "## Check out the Data\n",
    "\n",
    "### Import Libraries"
   ]
  },
  {
   "cell_type": "code",
   "execution_count": 1,
   "metadata": {},
   "outputs": [],
   "source": [
    "import numpy as np\n",
    "import pandas as pd\n",
    "import matplotlib.pyplot as plt\n",
    "import seaborn as sns\n"
   ]
  },
  {
   "cell_type": "markdown",
   "metadata": {},
   "source": [
    "### Get the Data"
   ]
  },
  {
   "cell_type": "code",
   "execution_count": 2,
   "metadata": {},
   "outputs": [],
   "source": [
    "data=pd.read_csv('sap_stock.csv')"
   ]
  },
  {
   "cell_type": "code",
   "execution_count": 3,
   "metadata": {},
   "outputs": [
    {
     "data": {
      "text/html": [
       "<div>\n",
       "<style scoped>\n",
       "    .dataframe tbody tr th:only-of-type {\n",
       "        vertical-align: middle;\n",
       "    }\n",
       "\n",
       "    .dataframe tbody tr th {\n",
       "        vertical-align: top;\n",
       "    }\n",
       "\n",
       "    .dataframe thead th {\n",
       "        text-align: right;\n",
       "    }\n",
       "</style>\n",
       "<table border=\"1\" class=\"dataframe\">\n",
       "  <thead>\n",
       "    <tr style=\"text-align: right;\">\n",
       "      <th></th>\n",
       "      <th>Date</th>\n",
       "      <th>Open</th>\n",
       "      <th>High</th>\n",
       "      <th>Low</th>\n",
       "      <th>Close</th>\n",
       "      <th>Change</th>\n",
       "      <th>Traded Volume</th>\n",
       "      <th>Turnover</th>\n",
       "      <th>Last Price of the Day</th>\n",
       "      <th>Daily Traded Units</th>\n",
       "      <th>Daily Turnover</th>\n",
       "    </tr>\n",
       "  </thead>\n",
       "  <tbody>\n",
       "    <tr>\n",
       "      <th>0</th>\n",
       "      <td>2009-03-09</td>\n",
       "      <td>25.16</td>\n",
       "      <td>25.82</td>\n",
       "      <td>24.48</td>\n",
       "      <td>25.59</td>\n",
       "      <td>NaN</td>\n",
       "      <td>5749357.0</td>\n",
       "      <td>145200289.0</td>\n",
       "      <td>NaN</td>\n",
       "      <td>NaN</td>\n",
       "      <td>NaN</td>\n",
       "    </tr>\n",
       "    <tr>\n",
       "      <th>1</th>\n",
       "      <td>2009-03-10</td>\n",
       "      <td>25.68</td>\n",
       "      <td>26.95</td>\n",
       "      <td>25.68</td>\n",
       "      <td>26.87</td>\n",
       "      <td>NaN</td>\n",
       "      <td>7507770.0</td>\n",
       "      <td>198480965.0</td>\n",
       "      <td>NaN</td>\n",
       "      <td>NaN</td>\n",
       "      <td>NaN</td>\n",
       "    </tr>\n",
       "    <tr>\n",
       "      <th>2</th>\n",
       "      <td>2009-03-11</td>\n",
       "      <td>26.50</td>\n",
       "      <td>26.95</td>\n",
       "      <td>26.26</td>\n",
       "      <td>26.64</td>\n",
       "      <td>NaN</td>\n",
       "      <td>5855095.0</td>\n",
       "      <td>155815439.0</td>\n",
       "      <td>NaN</td>\n",
       "      <td>NaN</td>\n",
       "      <td>NaN</td>\n",
       "    </tr>\n",
       "    <tr>\n",
       "      <th>3</th>\n",
       "      <td>2009-03-12</td>\n",
       "      <td>26.15</td>\n",
       "      <td>26.47</td>\n",
       "      <td>25.82</td>\n",
       "      <td>26.18</td>\n",
       "      <td>NaN</td>\n",
       "      <td>6294955.0</td>\n",
       "      <td>164489409.0</td>\n",
       "      <td>NaN</td>\n",
       "      <td>NaN</td>\n",
       "      <td>NaN</td>\n",
       "    </tr>\n",
       "    <tr>\n",
       "      <th>4</th>\n",
       "      <td>2009-03-13</td>\n",
       "      <td>26.01</td>\n",
       "      <td>26.24</td>\n",
       "      <td>25.65</td>\n",
       "      <td>25.73</td>\n",
       "      <td>NaN</td>\n",
       "      <td>6814568.0</td>\n",
       "      <td>176228331.0</td>\n",
       "      <td>NaN</td>\n",
       "      <td>NaN</td>\n",
       "      <td>NaN</td>\n",
       "    </tr>\n",
       "  </tbody>\n",
       "</table>\n",
       "</div>"
      ],
      "text/plain": [
       "         Date   Open   High    Low  Close  Change  Traded Volume     Turnover  \\\n",
       "0  2009-03-09  25.16  25.82  24.48  25.59     NaN      5749357.0  145200289.0   \n",
       "1  2009-03-10  25.68  26.95  25.68  26.87     NaN      7507770.0  198480965.0   \n",
       "2  2009-03-11  26.50  26.95  26.26  26.64     NaN      5855095.0  155815439.0   \n",
       "3  2009-03-12  26.15  26.47  25.82  26.18     NaN      6294955.0  164489409.0   \n",
       "4  2009-03-13  26.01  26.24  25.65  25.73     NaN      6814568.0  176228331.0   \n",
       "\n",
       "   Last Price of the Day  Daily Traded Units  Daily Turnover  \n",
       "0                    NaN                 NaN             NaN  \n",
       "1                    NaN                 NaN             NaN  \n",
       "2                    NaN                 NaN             NaN  \n",
       "3                    NaN                 NaN             NaN  \n",
       "4                    NaN                 NaN             NaN  "
      ]
     },
     "execution_count": 3,
     "metadata": {},
     "output_type": "execute_result"
    }
   ],
   "source": [
    "data.head()"
   ]
  },
  {
   "cell_type": "code",
   "execution_count": 4,
   "metadata": {},
   "outputs": [
    {
     "name": "stdout",
     "output_type": "stream",
     "text": [
      "<class 'pandas.core.frame.DataFrame'>\n",
      "RangeIndex: 2550 entries, 0 to 2549\n",
      "Data columns (total 11 columns):\n",
      " #   Column                 Non-Null Count  Dtype  \n",
      "---  ------                 --------------  -----  \n",
      " 0   Date                   2550 non-null   object \n",
      " 1   Open                   2242 non-null   float64\n",
      " 2   High                   2543 non-null   float64\n",
      " 3   Low                    2543 non-null   float64\n",
      " 4   Close                  2550 non-null   float64\n",
      " 5   Change                 11 non-null     float64\n",
      " 6   Traded Volume          2504 non-null   float64\n",
      " 7   Turnover               2497 non-null   float64\n",
      " 8   Last Price of the Day  0 non-null      float64\n",
      " 9   Daily Traded Units     0 non-null      float64\n",
      " 10  Daily Turnover         7 non-null      float64\n",
      "dtypes: float64(10), object(1)\n",
      "memory usage: 219.3+ KB\n"
     ]
    }
   ],
   "source": [
    "# Check data types in columns\n",
    "data.info()"
   ]
  },
  {
   "cell_type": "code",
   "execution_count": 5,
   "metadata": {},
   "outputs": [
    {
     "data": {
      "text/html": [
       "<div>\n",
       "<style scoped>\n",
       "    .dataframe tbody tr th:only-of-type {\n",
       "        vertical-align: middle;\n",
       "    }\n",
       "\n",
       "    .dataframe tbody tr th {\n",
       "        vertical-align: top;\n",
       "    }\n",
       "\n",
       "    .dataframe thead th {\n",
       "        text-align: right;\n",
       "    }\n",
       "</style>\n",
       "<table border=\"1\" class=\"dataframe\">\n",
       "  <thead>\n",
       "    <tr style=\"text-align: right;\">\n",
       "      <th></th>\n",
       "      <th>Open</th>\n",
       "      <th>High</th>\n",
       "      <th>Low</th>\n",
       "      <th>Close</th>\n",
       "      <th>Change</th>\n",
       "      <th>Traded Volume</th>\n",
       "      <th>Turnover</th>\n",
       "      <th>Last Price of the Day</th>\n",
       "      <th>Daily Traded Units</th>\n",
       "      <th>Daily Turnover</th>\n",
       "    </tr>\n",
       "  </thead>\n",
       "  <tbody>\n",
       "    <tr>\n",
       "      <th>count</th>\n",
       "      <td>2242.000000</td>\n",
       "      <td>2543.000000</td>\n",
       "      <td>2543.000000</td>\n",
       "      <td>2550.000000</td>\n",
       "      <td>11.000000</td>\n",
       "      <td>2.504000e+03</td>\n",
       "      <td>2.497000e+03</td>\n",
       "      <td>0.0</td>\n",
       "      <td>0.0</td>\n",
       "      <td>7.0</td>\n",
       "    </tr>\n",
       "    <tr>\n",
       "      <th>mean</th>\n",
       "      <td>56.686896</td>\n",
       "      <td>61.563225</td>\n",
       "      <td>60.535073</td>\n",
       "      <td>60.995955</td>\n",
       "      <td>-0.070000</td>\n",
       "      <td>3.296818e+06</td>\n",
       "      <td>1.828440e+08</td>\n",
       "      <td>NaN</td>\n",
       "      <td>NaN</td>\n",
       "      <td>0.0</td>\n",
       "    </tr>\n",
       "    <tr>\n",
       "      <th>std</th>\n",
       "      <td>18.320821</td>\n",
       "      <td>21.184135</td>\n",
       "      <td>20.934460</td>\n",
       "      <td>21.097480</td>\n",
       "      <td>0.709761</td>\n",
       "      <td>2.004323e+06</td>\n",
       "      <td>9.350710e+07</td>\n",
       "      <td>NaN</td>\n",
       "      <td>NaN</td>\n",
       "      <td>0.0</td>\n",
       "    </tr>\n",
       "    <tr>\n",
       "      <th>min</th>\n",
       "      <td>25.160000</td>\n",
       "      <td>25.820000</td>\n",
       "      <td>24.480000</td>\n",
       "      <td>25.590000</td>\n",
       "      <td>-0.740000</td>\n",
       "      <td>0.000000e+00</td>\n",
       "      <td>1.767350e+05</td>\n",
       "      <td>NaN</td>\n",
       "      <td>NaN</td>\n",
       "      <td>0.0</td>\n",
       "    </tr>\n",
       "    <tr>\n",
       "      <th>25%</th>\n",
       "      <td>41.500000</td>\n",
       "      <td>43.430000</td>\n",
       "      <td>42.590000</td>\n",
       "      <td>42.950000</td>\n",
       "      <td>-0.500000</td>\n",
       "      <td>2.131686e+06</td>\n",
       "      <td>1.300462e+08</td>\n",
       "      <td>NaN</td>\n",
       "      <td>NaN</td>\n",
       "      <td>0.0</td>\n",
       "    </tr>\n",
       "    <tr>\n",
       "      <th>50%</th>\n",
       "      <td>56.560000</td>\n",
       "      <td>58.480000</td>\n",
       "      <td>57.580000</td>\n",
       "      <td>58.015000</td>\n",
       "      <td>-0.290000</td>\n",
       "      <td>2.852772e+06</td>\n",
       "      <td>1.626544e+08</td>\n",
       "      <td>NaN</td>\n",
       "      <td>NaN</td>\n",
       "      <td>0.0</td>\n",
       "    </tr>\n",
       "    <tr>\n",
       "      <th>75%</th>\n",
       "      <td>67.732500</td>\n",
       "      <td>78.365000</td>\n",
       "      <td>77.085000</td>\n",
       "      <td>77.762500</td>\n",
       "      <td>0.085000</td>\n",
       "      <td>3.878528e+06</td>\n",
       "      <td>2.104511e+08</td>\n",
       "      <td>NaN</td>\n",
       "      <td>NaN</td>\n",
       "      <td>0.0</td>\n",
       "    </tr>\n",
       "    <tr>\n",
       "      <th>max</th>\n",
       "      <td>100.100000</td>\n",
       "      <td>108.520000</td>\n",
       "      <td>107.020000</td>\n",
       "      <td>107.800000</td>\n",
       "      <td>1.250000</td>\n",
       "      <td>3.645671e+07</td>\n",
       "      <td>1.369431e+09</td>\n",
       "      <td>NaN</td>\n",
       "      <td>NaN</td>\n",
       "      <td>0.0</td>\n",
       "    </tr>\n",
       "  </tbody>\n",
       "</table>\n",
       "</div>"
      ],
      "text/plain": [
       "              Open         High          Low        Close     Change  \\\n",
       "count  2242.000000  2543.000000  2543.000000  2550.000000  11.000000   \n",
       "mean     56.686896    61.563225    60.535073    60.995955  -0.070000   \n",
       "std      18.320821    21.184135    20.934460    21.097480   0.709761   \n",
       "min      25.160000    25.820000    24.480000    25.590000  -0.740000   \n",
       "25%      41.500000    43.430000    42.590000    42.950000  -0.500000   \n",
       "50%      56.560000    58.480000    57.580000    58.015000  -0.290000   \n",
       "75%      67.732500    78.365000    77.085000    77.762500   0.085000   \n",
       "max     100.100000   108.520000   107.020000   107.800000   1.250000   \n",
       "\n",
       "       Traded Volume      Turnover  Last Price of the Day  Daily Traded Units  \\\n",
       "count   2.504000e+03  2.497000e+03                    0.0                 0.0   \n",
       "mean    3.296818e+06  1.828440e+08                    NaN                 NaN   \n",
       "std     2.004323e+06  9.350710e+07                    NaN                 NaN   \n",
       "min     0.000000e+00  1.767350e+05                    NaN                 NaN   \n",
       "25%     2.131686e+06  1.300462e+08                    NaN                 NaN   \n",
       "50%     2.852772e+06  1.626544e+08                    NaN                 NaN   \n",
       "75%     3.878528e+06  2.104511e+08                    NaN                 NaN   \n",
       "max     3.645671e+07  1.369431e+09                    NaN                 NaN   \n",
       "\n",
       "       Daily Turnover  \n",
       "count             7.0  \n",
       "mean              0.0  \n",
       "std               0.0  \n",
       "min               0.0  \n",
       "25%               0.0  \n",
       "50%               0.0  \n",
       "75%               0.0  \n",
       "max               0.0  "
      ]
     },
     "execution_count": 5,
     "metadata": {},
     "output_type": "execute_result"
    }
   ],
   "source": [
    "# Get descriptive statistics summary of data set \n",
    "data.describe()"
   ]
  },
  {
   "cell_type": "code",
   "execution_count": 6,
   "metadata": {},
   "outputs": [
    {
     "data": {
      "text/plain": [
       "Index(['Date', 'Open', 'High', 'Low', 'Close', 'Change', 'Traded Volume',\n",
       "       'Turnover', 'Last Price of the Day', 'Daily Traded Units',\n",
       "       'Daily Turnover'],\n",
       "      dtype='object')"
      ]
     },
     "execution_count": 6,
     "metadata": {},
     "output_type": "execute_result"
    }
   ],
   "source": [
    "# Display features in data set\n",
    "data.columns"
   ]
  },
  {
   "cell_type": "code",
   "execution_count": 7,
   "metadata": {},
   "outputs": [],
   "source": [
    "# Create a new DataFrame with only closing price and date\n",
    "df = pd.DataFrame(data, columns=['Close'])\n",
    "\n"
   ]
  },
  {
   "cell_type": "code",
   "execution_count": 8,
   "metadata": {},
   "outputs": [
    {
     "data": {
      "text/html": [
       "<div>\n",
       "<style scoped>\n",
       "    .dataframe tbody tr th:only-of-type {\n",
       "        vertical-align: middle;\n",
       "    }\n",
       "\n",
       "    .dataframe tbody tr th {\n",
       "        vertical-align: top;\n",
       "    }\n",
       "\n",
       "    .dataframe thead th {\n",
       "        text-align: right;\n",
       "    }\n",
       "</style>\n",
       "<table border=\"1\" class=\"dataframe\">\n",
       "  <thead>\n",
       "    <tr style=\"text-align: right;\">\n",
       "      <th></th>\n",
       "      <th>Close</th>\n",
       "    </tr>\n",
       "  </thead>\n",
       "  <tbody>\n",
       "    <tr>\n",
       "      <th>0</th>\n",
       "      <td>25.59</td>\n",
       "    </tr>\n",
       "    <tr>\n",
       "      <th>1</th>\n",
       "      <td>26.87</td>\n",
       "    </tr>\n",
       "    <tr>\n",
       "      <th>2</th>\n",
       "      <td>26.64</td>\n",
       "    </tr>\n",
       "    <tr>\n",
       "      <th>3</th>\n",
       "      <td>26.18</td>\n",
       "    </tr>\n",
       "    <tr>\n",
       "      <th>4</th>\n",
       "      <td>25.73</td>\n",
       "    </tr>\n",
       "  </tbody>\n",
       "</table>\n",
       "</div>"
      ],
      "text/plain": [
       "   Close\n",
       "0  25.59\n",
       "1  26.87\n",
       "2  26.64\n",
       "3  26.18\n",
       "4  25.73"
      ]
     },
     "execution_count": 8,
     "metadata": {},
     "output_type": "execute_result"
    }
   ],
   "source": [
    "df.head()"
   ]
  },
  {
   "cell_type": "code",
   "execution_count": 9,
   "metadata": {},
   "outputs": [
    {
     "name": "stdout",
     "output_type": "stream",
     "text": [
      "<class 'pandas.core.frame.DataFrame'>\n",
      "RangeIndex: 2550 entries, 0 to 2549\n",
      "Data columns (total 1 columns):\n",
      " #   Column  Non-Null Count  Dtype  \n",
      "---  ------  --------------  -----  \n",
      " 0   Close   2550 non-null   float64\n",
      "dtypes: float64(1)\n",
      "memory usage: 20.0 KB\n"
     ]
    }
   ],
   "source": [
    "# Check data types in columns\n",
    "df.info()"
   ]
  },
  {
   "cell_type": "code",
   "execution_count": 10,
   "metadata": {},
   "outputs": [
    {
     "data": {
      "text/plain": [
       "False"
      ]
     },
     "execution_count": 10,
     "metadata": {},
     "output_type": "execute_result"
    }
   ],
   "source": [
    "# Check for missing values in the columns\n",
    "df.isna().values.any()"
   ]
  },
  {
   "cell_type": "markdown",
   "metadata": {},
   "source": [
    "## Linear Regression\n",
    " \n",
    "Our data contains only one **independent variable ($X$)** which represents the *date* and the **dependent variable ($Y$)** we are trying to predict is the *Stock Price*. To fit a line to the data points, which then represents an estimated relationship between $X$ and $Y$, we can use a **Simple Linear Regression**.\n",
    "\n",
    "The best fit line can be described with  \n",
    "$$\n",
    "Y = \\beta_0 + \\beta_1 X\n",
    "$$\n",
    "\n",
    "where  \n",
    "* $Y$ is the predicted value of the dependent variable\n",
    "* $\\beta_0$ is the y-intercept\n",
    "* $\\beta_1$ is the slope\n",
    "* $X$ is the value of the independent variable\n",
    "\n",
    "The goal is to find such coefficients $\\beta_0$ and $\\beta_1$ that the **Sum of Squared Errors**, which represents the difference between each point in the dataset with it’s corresponding predicted value outputted by the model, is minimal."
   ]
  },
  {
   "cell_type": "markdown",
   "metadata": {},
   "source": [
    "### Training a Linear Regression Model"
   ]
  },
  {
   "cell_type": "markdown",
   "metadata": {},
   "source": [
    "### Train Test Split"
   ]
  },
  {
   "cell_type": "code",
   "execution_count": 11,
   "metadata": {},
   "outputs": [],
   "source": [
    "# Import package for splitting data set\n",
    "from sklearn.model_selection import train_test_split"
   ]
  },
  {
   "cell_type": "code",
   "execution_count": 12,
   "metadata": {},
   "outputs": [],
   "source": [
    "# Split data into train and test set: 80% / 20%\n",
    "train, test = train_test_split(df, test_size=0.20)"
   ]
  },
  {
   "cell_type": "markdown",
   "metadata": {},
   "source": [
    "### Create and Train the Model"
   ]
  },
  {
   "cell_type": "code",
   "execution_count": 13,
   "metadata": {},
   "outputs": [],
   "source": [
    "# Import package for linear model\n",
    "from sklearn.linear_model import LinearRegression"
   ]
  },
  {
   "cell_type": "code",
   "execution_count": 14,
   "metadata": {},
   "outputs": [],
   "source": [
    "# Reshape index column to 2D array for .fit() method\n",
    "X_train = np.array(train.index).reshape(-1, 1)\n",
    "y_train = train['Close']\n"
   ]
  },
  {
   "cell_type": "code",
   "execution_count": 15,
   "metadata": {},
   "outputs": [
    {
     "data": {
      "text/plain": [
       "LinearRegression()"
      ]
     },
     "execution_count": 15,
     "metadata": {},
     "output_type": "execute_result"
    }
   ],
   "source": [
    "# Create LinearRegression Object\n",
    "model = LinearRegression()\n",
    "# Fit linear model using the train data set\n",
    "model.fit(X_train, y_train)"
   ]
  },
  {
   "cell_type": "markdown",
   "metadata": {},
   "source": [
    "### Model Evaluation"
   ]
  },
  {
   "cell_type": "code",
   "execution_count": 16,
   "metadata": {},
   "outputs": [
    {
     "name": "stdout",
     "output_type": "stream",
     "text": [
      "Slope:  0.0276751693073042\n",
      "Intercept:  25.75226870826515\n"
     ]
    },
    {
     "name": "stderr",
     "output_type": "stream",
     "text": [
      "<ipython-input-16-f46d15fbfb1c>:2: DeprecationWarning: np.asscalar(a) is deprecated since NumPy v1.16, use a.item() instead\n",
      "  print('Slope: ', np.asscalar(np.squeeze(model.coef_)))\n"
     ]
    }
   ],
   "source": [
    "# The coefficient\n",
    "print('Slope: ', np.asscalar(np.squeeze(model.coef_)))\n",
    "# The Intercept\n",
    "print('Intercept: ', model.intercept_)"
   ]
  },
  {
   "cell_type": "markdown",
   "metadata": {},
   "source": [
    "Interpreting the coefficients:\n",
    "\n",
    "* The **slope** coefficient tells us that with a 1 unit increase in **date** the **closing price** increases by 0.0276 $\n",
    "* The **intercept** coefficient is the price at wich the **closing price** measurement started, the stock price value at date zero"
   ]
  },
  {
   "cell_type": "code",
   "execution_count": 17,
   "metadata": {},
   "outputs": [
    {
     "data": {
      "image/png": "[encoded data removed]",
      "text/plain": [
       "<Figure size 1152x720 with 1 Axes>"
      ]
     },
     "metadata": {
      "needs_background": "light"
     },
     "output_type": "display_data"
    }
   ],
   "source": [
    "# Train set graph\n",
    "plt.figure(1, figsize=(16,10))\n",
    "plt.title('Linear Regression | Price vs Time')\n",
    "plt.scatter(X_train, y_train, edgecolor='w', label='Actual Price')\n",
    "plt.plot(X_train, model.predict(X_train), color='r', label='Predicted Price')\n",
    "plt.xlabel('Integer Date')\n",
    "plt.ylabel('Stock Price')\n",
    "plt.legend()\n",
    "plt.show()"
   ]
  },
  {
   "cell_type": "markdown",
   "metadata": {},
   "source": [
    "### Prediction from our Model"
   ]
  },
  {
   "cell_type": "code",
   "execution_count": 18,
   "metadata": {},
   "outputs": [],
   "source": [
    "# Create test arrays\n",
    "X_test = np.array(test.index).reshape(-1, 1)\n",
    "y_test = test['Close']"
   ]
  },
  {
   "cell_type": "code",
   "execution_count": 19,
   "metadata": {},
   "outputs": [],
   "source": [
    "# Generate array with predicted values\n",
    "y_pred = model.predict(X_test)"
   ]
  },
  {
   "cell_type": "markdown",
   "metadata": {},
   "source": [
    "## Regression Evaluation"
   ]
  },
  {
   "cell_type": "markdown",
   "metadata": {},
   "source": [
    "Let's have a look at how the predicted values compare with the actual value on random sample from our data set."
   ]
  },
  {
   "cell_type": "code",
   "execution_count": 20,
   "metadata": {},
   "outputs": [
    {
     "data": {
      "text/plain": [
       "(2550, 1)"
      ]
     },
     "execution_count": 20,
     "metadata": {},
     "output_type": "execute_result"
    }
   ],
   "source": [
    "# Get number of rows in data set for random sample\n",
    "df.shape"
   ]
  },
  {
   "cell_type": "code",
   "execution_count": 21,
   "metadata": {},
   "outputs": [],
   "source": [
    "# Generate 25 random numbers\n",
    "randints = np.random.randint(2550, size=25)\n",
    "\n",
    "# Select row numbers == random numbers\n",
    "df_sample = df[df.index.isin(randints)]"
   ]
  },
  {
   "cell_type": "code",
   "execution_count": 22,
   "metadata": {},
   "outputs": [
    {
     "data": {
      "text/html": [
       "<div>\n",
       "<style scoped>\n",
       "    .dataframe tbody tr th:only-of-type {\n",
       "        vertical-align: middle;\n",
       "    }\n",
       "\n",
       "    .dataframe tbody tr th {\n",
       "        vertical-align: top;\n",
       "    }\n",
       "\n",
       "    .dataframe thead th {\n",
       "        text-align: right;\n",
       "    }\n",
       "</style>\n",
       "<table border=\"1\" class=\"dataframe\">\n",
       "  <thead>\n",
       "    <tr style=\"text-align: right;\">\n",
       "      <th></th>\n",
       "      <th>Close</th>\n",
       "    </tr>\n",
       "  </thead>\n",
       "  <tbody>\n",
       "    <tr>\n",
       "      <th>40</th>\n",
       "      <td>29.34</td>\n",
       "    </tr>\n",
       "    <tr>\n",
       "      <th>55</th>\n",
       "      <td>30.13</td>\n",
       "    </tr>\n",
       "    <tr>\n",
       "      <th>140</th>\n",
       "      <td>34.40</td>\n",
       "    </tr>\n",
       "    <tr>\n",
       "      <th>451</th>\n",
       "      <td>36.30</td>\n",
       "    </tr>\n",
       "    <tr>\n",
       "      <th>559</th>\n",
       "      <td>43.69</td>\n",
       "    </tr>\n",
       "  </tbody>\n",
       "</table>\n",
       "</div>"
      ],
      "text/plain": [
       "     Close\n",
       "40   29.34\n",
       "55   30.13\n",
       "140  34.40\n",
       "451  36.30\n",
       "559  43.69"
      ]
     },
     "execution_count": 22,
     "metadata": {},
     "output_type": "execute_result"
    }
   ],
   "source": [
    "df_sample.head()"
   ]
  },
  {
   "cell_type": "code",
   "execution_count": 23,
   "metadata": {},
   "outputs": [
    {
     "data": {
      "image/png": "[encoded data removed]",
      "text/plain": [
       "<Figure size 1152x720 with 1 Axes>"
      ]
     },
     "metadata": {
      "needs_background": "light"
     },
     "output_type": "display_data"
    }
   ],
   "source": [
    "# Plot fitted line, y test\n",
    "plt.figure(1, figsize=(16,10))\n",
    "plt.title('Linear Regression | Price vs Time')\n",
    "plt.plot(X_test, model.predict(X_test), color='r', label='Predicted Price')\n",
    "plt.scatter(X_test, y_test, edgecolor='w', label='Actual Price')\n",
    "\n",
    "plt.xlabel('Integer Date')\n",
    "plt.ylabel('Stock Price in $')\n",
    "\n",
    "plt.show()"
   ]
  },
  {
   "cell_type": "code",
   "execution_count": 24,
   "metadata": {},
   "outputs": [
    {
     "data": {
      "image/png": "[encoded data removed]",
      "text/plain": [
       "<Figure size 432x288 with 1 Axes>"
      ]
     },
     "metadata": {
      "needs_background": "light"
     },
     "output_type": "display_data"
    }
   ],
   "source": [
    "# Plot predicted vs actual prices\n",
    "plt.scatter(y_test, y_pred)\n",
    "\n",
    "plt.xlabel('Actual Prices')\n",
    "plt.ylabel('Predicted Prices')\n",
    "\n",
    "plt.title('Predicted vs Actual Price')\n",
    "\n",
    "plt.show()"
   ]
  },
  {
   "cell_type": "markdown",
   "metadata": {},
   "source": [
    "#### Residual Histogram\n",
    "\n",
    "The residuals are nearly normally distributed around zero, with a slight skewedness to the right. "
   ]
  },
  {
   "cell_type": "code",
   "execution_count": 25,
   "metadata": {},
   "outputs": [],
   "source": [
    "# Add new column for predictions to df\n",
    "df['Prediction'] = model.predict(np.array(df.index).reshape(-1, 1))"
   ]
  },
  {
   "cell_type": "code",
   "execution_count": 26,
   "metadata": {},
   "outputs": [
    {
     "data": {
      "text/html": [
       "<div>\n",
       "<style scoped>\n",
       "    .dataframe tbody tr th:only-of-type {\n",
       "        vertical-align: middle;\n",
       "    }\n",
       "\n",
       "    .dataframe tbody tr th {\n",
       "        vertical-align: top;\n",
       "    }\n",
       "\n",
       "    .dataframe thead th {\n",
       "        text-align: right;\n",
       "    }\n",
       "</style>\n",
       "<table border=\"1\" class=\"dataframe\">\n",
       "  <thead>\n",
       "    <tr style=\"text-align: right;\">\n",
       "      <th></th>\n",
       "      <th>Close</th>\n",
       "      <th>Prediction</th>\n",
       "    </tr>\n",
       "  </thead>\n",
       "  <tbody>\n",
       "    <tr>\n",
       "      <th>0</th>\n",
       "      <td>25.59</td>\n",
       "      <td>25.752269</td>\n",
       "    </tr>\n",
       "    <tr>\n",
       "      <th>1</th>\n",
       "      <td>26.87</td>\n",
       "      <td>25.779944</td>\n",
       "    </tr>\n",
       "    <tr>\n",
       "      <th>2</th>\n",
       "      <td>26.64</td>\n",
       "      <td>25.807619</td>\n",
       "    </tr>\n",
       "    <tr>\n",
       "      <th>3</th>\n",
       "      <td>26.18</td>\n",
       "      <td>25.835294</td>\n",
       "    </tr>\n",
       "    <tr>\n",
       "      <th>4</th>\n",
       "      <td>25.73</td>\n",
       "      <td>25.862969</td>\n",
       "    </tr>\n",
       "  </tbody>\n",
       "</table>\n",
       "</div>"
      ],
      "text/plain": [
       "   Close  Prediction\n",
       "0  25.59   25.752269\n",
       "1  26.87   25.779944\n",
       "2  26.64   25.807619\n",
       "3  26.18   25.835294\n",
       "4  25.73   25.862969"
      ]
     },
     "execution_count": 26,
     "metadata": {},
     "output_type": "execute_result"
    }
   ],
   "source": [
    "df.head()"
   ]
  },
  {
   "cell_type": "markdown",
   "metadata": {},
   "source": [
    "### Error Evaluation Metrics\n",
    "\n",
    "**Mean Absolute Error (MAE)** is the mean of the absolute value of the errors:\n",
    "$$\n",
    "\\frac{1}{N} \\sum_{i = 1}^{N} |y_i - \\hat{y}_i|\n",
    "$$\n",
    "\n",
    "**Mean Squared Error (MSE)** is the mean of the squared errors:\n",
    "$$\n",
    "\\frac{1}{N} \\sum_{i = 1}^{N} (y_i - \\hat{y}_i)^2\n",
    "$$\n",
    "\n",
    "**Root Mean Squared Error (RMSE)** is the square root of the mean of the squared errors:\n",
    "$$\n",
    "\\sqrt{\\frac{1}{N} \\sum_{i = 1}^{N} (y_i - \\hat{y}_i)^2}\n",
    "$$\n",
    "\n",
    "All of these are **cost functions** we want to minimize."
   ]
  },
  {
   "cell_type": "code",
   "execution_count": 27,
   "metadata": {},
   "outputs": [],
   "source": [
    "# Import metrics package from sklearn for statistical analysis\n",
    "from sklearn import metrics"
   ]
  },
  {
   "cell_type": "code",
   "execution_count": 28,
   "metadata": {},
   "outputs": [
    {
     "data": {
      "text/plain": [
       "count    2550.000000\n",
       "mean       60.995955\n",
       "std        21.097480\n",
       "min        25.590000\n",
       "25%        42.950000\n",
       "50%        58.015000\n",
       "75%        77.762500\n",
       "max       107.800000\n",
       "Name: Close, dtype: float64"
      ]
     },
     "execution_count": 28,
     "metadata": {},
     "output_type": "execute_result"
    }
   ],
   "source": [
    "# Statistical summary of test data\n",
    "df['Close'].describe()"
   ]
  },
  {
   "cell_type": "code",
   "execution_count": 29,
   "metadata": {},
   "outputs": [
    {
     "name": "stdout",
     "output_type": "stream",
     "text": [
      "Mean Absolute Error: 4.317005239507456\n",
      "Mean Squared Error: 30.914294483493364\n",
      "Root Mean Squared Error: 5.560062453200806\n"
     ]
    }
   ],
   "source": [
    "# Calculate and print values of MAE, MSE, RMSE\n",
    "print('Mean Absolute Error:', metrics.mean_absolute_error(y_test, y_pred))  \n",
    "print('Mean Squared Error:', metrics.mean_squared_error(y_test, y_pred))  \n",
    "print('Root Mean Squared Error:', np.sqrt(metrics.mean_squared_error(y_test, y_pred)))"
   ]
  },
  {
   "cell_type": "markdown",
   "metadata": {},
   "source": [
    "* The MAE is 3% (of minimum) and 6% (of maximum) of the Closing Price.\n",
    "* The other two errors are larger, because the errors are squared and have therefore a greater influence on the result."
   ]
  },
  {
   "cell_type": "markdown",
   "metadata": {},
   "source": [
    "### Accuracy Evaluation Metrics\n",
    "\n",
    "To see how accurate our model is, we can calculate the **Coefficient of determination**, which describes the ratio between the total error and the error, that is explained by our model. It's value is between 0 and 1, with 1 meaning 100% of the error is acoounted for by the model. \n",
    "\n",
    "**Coefficient of determination**\n",
    "$$\n",
    "R^2 = 1 - \\frac{RSS}{TSS}\n",
    "$$\n",
    "\n",
    "with  \n",
    "\n",
    "**Residual Sum of Squares (RSS)**\n",
    "$$\n",
    "RSS = \\sum_{i = 1}^{N} \\epsilon_i^2 = \\sum_{i = 1}^{N} (y_i - \\hat{y}_i)^2\n",
    "$$\n",
    "\n",
    "**Total Sum of Squares (TSS)**\n",
    "$$\n",
    "TSS = \\sum_{i = 1}^{N} (y_i - \\bar{y}_i)^2\n",
    "$$\n"
   ]
  },
  {
   "cell_type": "code",
   "execution_count": 30,
   "metadata": {},
   "outputs": [
    {
     "name": "stdout",
     "output_type": "stream",
     "text": [
      "R2:  0.931170062056299\n"
     ]
    }
   ],
   "source": [
    "print('R2: ', metrics.r2_score(y_test, y_pred))"
   ]
  },
  {
   "cell_type": "code",
   "execution_count": 31,
   "metadata": {},
   "outputs": [
    {
     "data": {
      "text/plain": [
       "0.9312146949703132"
      ]
     },
     "execution_count": 31,
     "metadata": {},
     "output_type": "execute_result"
    }
   ],
   "source": [
    "from sklearn.metrics import explained_variance_score\n",
    "explained_variance_score(y_test, y_pred)"
   ]
  },
  {
   "cell_type": "markdown",
   "metadata": {},
   "source": [
    "The value of $R^2$ shows that are model accounts for nearly 94% of the differences between the actual stock prices and the predicted prices. "
   ]
  }
 ],
 "metadata": {
  "interpreter": {
   "hash": "55202b77d85ada30bdf472c5f016587ed6c8e9a369a9036212cf5645b62f829e"
  },
  "kernelspec": {
   "display_name": "Python 3.9.0 64-bit",
   "language": "python",
   "name": "python3"
  },
  "language_info": {
   "codemirror_mode": {
    "name": "ipython",
    "version": 3
   },
   "file_extension": ".py",
   "mimetype": "text/x-python",
   "name": "python",
   "nbconvert_exporter": "python",
   "pygments_lexer": "ipython3",
   "version": "3.9.0"
  }
 },
 "nbformat": 4,
 "nbformat_minor": 2
}
